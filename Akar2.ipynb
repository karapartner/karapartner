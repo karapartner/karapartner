{
  "nbformat": 4,
  "nbformat_minor": 0,
  "metadata": {
    "colab": {
      "provenance": [],
      "authorship_tag": "ABX9TyMuf0PD+8Ahvygk1R3cbfTi",
      "include_colab_link": true
    },
    "kernelspec": {
      "name": "python3",
      "display_name": "Python 3"
    },
    "language_info": {
      "name": "python"
    }
  },
  "cells": [
    {
      "cell_type": "markdown",
      "metadata": {
        "id": "view-in-github",
        "colab_type": "text"
      },
      "source": [
        "<a href=\"https://colab.research.google.com/github/karapartner/karapartner/blob/main/Akar2.ipynb\" target=\"_parent\"><img src=\"https://colab.research.google.com/assets/colab-badge.svg\" alt=\"Open In Colab\"/></a>"
      ]
    },
    {
      "cell_type": "code",
      "execution_count": null,
      "metadata": {
        "id": "ETDxMBbYAbr8"
      },
      "outputs": [],
      "source": [
        "# Perhitungan akar dengan math.sqrt()\n",
        "#   untuk menghitung penyelesaian\n",
        "#   persamaan ax^2 + bx + c = 0\n",
        "\n",
        "import math\n",
        "\n",
        "a = float (input ('a = '))\n",
        "b = float (input ('b = '))\n",
        "c = float (input ('c = '))\n",
        "\n",
        "x1 = (-b + math.sqrt (b * b - 4 * a * c)) / (2 * a)\n",
        "x2 = (-b - math.sqrt (b * b - 4 * a * c)) / (2 * a)\n",
        "\n",
        "print ()\n",
        "print (\"x1 =\", x1)\n",
        "print (\"x2 =\", x2)\n",
        "\n"
      ]
    }
  ]
}