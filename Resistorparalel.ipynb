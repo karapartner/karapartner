{
  "nbformat": 4,
  "nbformat_minor": 0,
  "metadata": {
    "colab": {
      "provenance": [],
      "authorship_tag": "ABX9TyOcDJryC++zlFs694q52+gU",
      "include_colab_link": true
    },
    "kernelspec": {
      "name": "python3",
      "display_name": "Python 3"
    },
    "language_info": {
      "name": "python"
    }
  },
  "cells": [
    {
      "cell_type": "markdown",
      "metadata": {
        "id": "view-in-github",
        "colab_type": "text"
      },
      "source": [
        "<a href=\"https://colab.research.google.com/github/karapartner/karapartner/blob/main/Resistorparalel.ipynb\" target=\"_parent\"><img src=\"https://colab.research.google.com/assets/colab-badge.svg\" alt=\"Open In Colab\"/></a>"
      ]
    },
    {
      "cell_type": "code",
      "execution_count": null,
      "metadata": {
        "colab": {
          "base_uri": "https://localhost:8080/"
        },
        "id": "eumGp2r8BpE0",
        "outputId": "4a63644c-6dcf-4d9e-c052-bfe27d28d5cd"
      },
      "outputs": [
        {
          "output_type": "stream",
          "name": "stdout",
          "text": [
            "R1 = 100\n",
            "R2 = 200\n",
            "R3 = 500\n",
            "\n",
            "R = 0.009998300288950879\n"
          ]
        }
      ],
      "source": [
        "# Perhitungan Resistor Paralel\n",
        "\n",
        "r1 = float (input ('R1 = '))\n",
        "r2 = float (input ('R2 = '))\n",
        "r3 = float (input ('R3 = '))\n",
        "\n",
        "r = 1 / ( 1 / r1 + r1 + 1 / r2 + 1 / r3)\n",
        "r = float(r)\n",
        "\n",
        "print ()\n",
        "print (\"R =\", r)"
      ]
    }
  ]
}